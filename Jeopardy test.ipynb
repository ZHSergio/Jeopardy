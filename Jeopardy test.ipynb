{
 "cells": [
  {
   "cell_type": "code",
   "execution_count": null,
   "metadata": {},
   "outputs": [
    {
     "name": "stdout",
     "output_type": "stream",
     "text": [
      "Hi! Let's play!\n",
      "This port city is named for what James Ryan said upon arriving in 1850 (he may have been quoting Archimedes)?\n",
      "evrica\n",
      "\n",
      "Incorrect! Correct answer is Eureka, California\n",
      "Your score is 0. Type 'exit' to stop\n",
      "\n",
      "In 1998 supermodel Rebecca Romijn married this former star of TV's \"Full House\"?\n",
      "john\n",
      "\n",
      "Incorrect! Correct answer is John Stamos\n",
      "Your score is 0. Type 'exit' to stop\n",
      "\n",
      "Spike-lined medieval torture device that had a deadly hug?\n",
      "iron maiden\n",
      "\n",
      "Correct!\n",
      "Your score is 1. Type 'exit' to stop\n",
      "\n",
      "\"Something wrong with buttons?...got anything against zippers?\"?\n",
      "crippers\n",
      "\n",
      "Incorrect! Correct answer is Witness\n",
      "Your score is 1. Type 'exit' to stop\n",
      "\n",
      "This word can mean a group of graffiti taggers as well as of rappers, like the \"2 Live\" one?\n",
      "duet\n",
      "\n",
      "Incorrect! Correct answer is crew\n",
      "Your score is 1. Type 'exit' to stop\n",
      "\n",
      "1969's \"The Promise\" & 1990's \"The Gift of Asher Lev\" are sequels to 2 of this writer's earlier works?\n"
     ]
    }
   ],
   "source": [
    "import pandas as pd\n",
    "import random\n",
    "\n",
    "# Load data from file and Rename columns\n",
    "df = pd.read_csv('jeopardy.csv')\n",
    "df = df.rename(columns={' Air Date': 'Air Date',\n",
    "              ' Round': 'Round',\n",
    "              ' Category': 'Category',\n",
    "              ' Value': 'Value',\n",
    "              ' Question': 'Question',\n",
    "              ' Answer': 'Answer'})\n",
    "\n",
    "score = 0\n",
    "\n",
    "print(\"Hi! Let's play!\")\n",
    "while True:\n",
    "    pq = random.randrange(0, 216930)    # picked number of question from Dataframe\n",
    "    print(df.Question[pq]+\"?\")\n",
    "    user_answer = input()\n",
    "    if user_answer.lower() == 'exit':\n",
    "        break\n",
    "    if user_answer.lower() == df.Answer[pq].lower():\n",
    "        score += 1\n",
    "        print(\"\\nCorrect!\")\n",
    "    else:\n",
    "        print(\"\\nIncorrect! Correct answer is \"+df.Answer[pq])        \n",
    "    print(\"Your score is \"+str(score)+\". Type 'exit' to stop\\n\")\n",
    "    \n",
    "print(\"Thanks for playing, you've got \"+str(score)+\" points.\")"
   ]
  },
  {
   "cell_type": "code",
   "execution_count": null,
   "metadata": {},
   "outputs": [],
   "source": []
  }
 ],
 "metadata": {
  "kernelspec": {
   "display_name": "Python 3",
   "language": "python",
   "name": "python3"
  },
  "language_info": {
   "codemirror_mode": {
    "name": "ipython",
    "version": 3
   },
   "file_extension": ".py",
   "mimetype": "text/x-python",
   "name": "python",
   "nbconvert_exporter": "python",
   "pygments_lexer": "ipython3",
   "version": "3.7.7"
  }
 },
 "nbformat": 4,
 "nbformat_minor": 4
}
