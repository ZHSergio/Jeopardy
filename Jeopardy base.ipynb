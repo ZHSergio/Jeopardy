{
 "cells": [
  {
   "cell_type": "code",
   "execution_count": 45,
   "metadata": {},
   "outputs": [
    {
     "name": "stdout",
     "output_type": "stream",
     "text": [
      "Question with word Computer in 90 are 104\n",
      "Question with word Computer in 2000 are 327\n",
      "                  Round    Category  Answer\n",
      "7495   Double Jeopardy!  LITERATURE     381\n",
      "15633   Final Jeopardy!  LITERATURE      10\n",
      "24351         Jeopardy!  LITERATURE     105\n"
     ]
    }
   ],
   "source": [
    "import pandas as pd\n",
    "pd.set_option('display.max_colwidth', None)\n",
    "\n",
    "# Load data from file and Rename columns\n",
    "df = pd.read_csv('jeopardy.csv')\n",
    "df = df.rename(columns={' Air Date': 'Air Date',\n",
    "              ' Round': 'Round',\n",
    "              ' Category': 'Category',\n",
    "              ' Value': 'Value',\n",
    "              ' Question': 'Question',\n",
    "              ' Answer': 'Answer'})\n",
    "\n",
    "\n",
    "# Finding list if words\n",
    "def filter_data(data, words):\n",
    "  filter = lambda x: all((word.lower() in x.lower()) for word in words)\n",
    "  return data.loc[data['Question'].apply(filter)]\n",
    "\n",
    "df_filtered = filter_data(df, ['King', 'England'])\n",
    "\n",
    "#print(df_filtered.loc[4953])\n",
    "\n",
    "# Convert Value to float and evaluate average value of question with word 'King'\n",
    "m_df = df.copy()\n",
    "m_df['Value_float'] = m_df.Value.apply(lambda x: 0.0 if x == 'None' else float(x.replace('$', '').replace(',', '')))\n",
    "m_df_filt = filter_data(m_df, ['King'])\n",
    "#print(m_df_filt['Value_float'].mean())\n",
    "\n",
    "# Count unique answers for questions with defined words\n",
    "uniq_df = m_df_filt.Answer.apply(lambda x: x.lower())\n",
    "#print(m_df_filt.Answer.value_counts())\n",
    "#print(uniq_df.value_counts())\n",
    "\n",
    "# Count number of question with word \"Computer\" in 90 and 2000\n",
    "df_computer = filter_data(df, ['computer'])\n",
    "df_comp_mod = df_computer.copy()\n",
    "df_comp_mod['Date_bool'] = df_comp_mod['Air Date'].apply(lambda x: True if int(x[:4]) >= 2000 else False)\n",
    "df_counted = df_comp_mod.groupby('Date_bool').Date_bool.count()\n",
    "print('Question with word Computer in 90 are '+ str(df_counted[0]))\n",
    "print('Question with word Computer in 2000 are '+ str(df_counted[1]))\n",
    "\n",
    "df1 = df.groupby(['Round', 'Category']).Answer.count().reset_index()\n",
    "print(df1[df1.Category == 'LITERATURE'])"
   ]
  },
  {
   "cell_type": "code",
   "execution_count": null,
   "metadata": {},
   "outputs": [],
   "source": []
  }
 ],
 "metadata": {
  "kernelspec": {
   "display_name": "Python 3",
   "language": "python",
   "name": "python3"
  },
  "language_info": {
   "codemirror_mode": {
    "name": "ipython",
    "version": 3
   },
   "file_extension": ".py",
   "mimetype": "text/x-python",
   "name": "python",
   "nbconvert_exporter": "python",
   "pygments_lexer": "ipython3",
   "version": "3.7.7"
  }
 },
 "nbformat": 4,
 "nbformat_minor": 4
}
